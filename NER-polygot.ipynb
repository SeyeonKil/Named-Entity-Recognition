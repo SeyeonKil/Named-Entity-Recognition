{
  "cells": [
    {
      "cell_type": "markdown",
      "metadata": {
        "id": "kT8rE2utslt4"
      },
      "source": [
        "# Assignment\n",
        "\n",
        "Goal: Bulid a multilingual Named Entity Model which can deal with english, french, italian and german text data. The model is based on neural network architechture with Tensorflow library.\n",
        "\n",
        "Dataset: Polygot-NER from huggingface, which contains sentences with four different NER tags: 'O', 'PER', 'LOC', 'ORG'. The dataset is available through this link: https://huggingface.co/datasets/polyglot_ner\n",
        "\n",
        "The flow of this code is as follows:\n",
        " 1. Downloading data from huggingface\n",
        " 2. Preprocessing data: Tokenization and Word Embedding\n",
        " 3. Buliding neural network model\n",
        " 4. Evaluating the model performance\n",
        " 5. Visualize the model prediction\n"
      ]
    },
    {
      "cell_type": "markdown",
      "source": [
        "# Import libraries and download data"
      ],
      "metadata": {
        "id": "WKDTNoTTATXs"
      }
    },
    {
      "cell_type": "code",
      "execution_count": 6,
      "metadata": {
        "colab": {
          "base_uri": "https://localhost:8080/"
        },
        "id": "HkDfLkWdFAr4",
        "outputId": "6e0a14b2-aca9-47b5-e1bf-cd15e6dda4ea"
      },
      "outputs": [
        {
          "output_type": "stream",
          "name": "stdout",
          "text": [
            "Requirement already satisfied: datasets in /usr/local/lib/python3.10/dist-packages (2.16.1)\n",
            "Requirement already satisfied: filelock in /usr/local/lib/python3.10/dist-packages (from datasets) (3.13.1)\n",
            "Requirement already satisfied: numpy>=1.17 in /usr/local/lib/python3.10/dist-packages (from datasets) (1.23.5)\n",
            "Requirement already satisfied: pyarrow>=8.0.0 in /usr/local/lib/python3.10/dist-packages (from datasets) (10.0.1)\n",
            "Requirement already satisfied: pyarrow-hotfix in /usr/local/lib/python3.10/dist-packages (from datasets) (0.6)\n",
            "Requirement already satisfied: dill<0.3.8,>=0.3.0 in /usr/local/lib/python3.10/dist-packages (from datasets) (0.3.7)\n",
            "Requirement already satisfied: pandas in /usr/local/lib/python3.10/dist-packages (from datasets) (1.5.3)\n",
            "Requirement already satisfied: requests>=2.19.0 in /usr/local/lib/python3.10/dist-packages (from datasets) (2.31.0)\n",
            "Requirement already satisfied: tqdm>=4.62.1 in /usr/local/lib/python3.10/dist-packages (from datasets) (4.66.1)\n",
            "Requirement already satisfied: xxhash in /usr/local/lib/python3.10/dist-packages (from datasets) (3.4.1)\n",
            "Requirement already satisfied: multiprocess in /usr/local/lib/python3.10/dist-packages (from datasets) (0.70.15)\n",
            "Requirement already satisfied: fsspec[http]<=2023.10.0,>=2023.1.0 in /usr/local/lib/python3.10/dist-packages (from datasets) (2023.6.0)\n",
            "Requirement already satisfied: aiohttp in /usr/local/lib/python3.10/dist-packages (from datasets) (3.9.3)\n",
            "Requirement already satisfied: huggingface-hub>=0.19.4 in /usr/local/lib/python3.10/dist-packages (from datasets) (0.20.3)\n",
            "Requirement already satisfied: packaging in /usr/local/lib/python3.10/dist-packages (from datasets) (23.2)\n",
            "Requirement already satisfied: pyyaml>=5.1 in /usr/local/lib/python3.10/dist-packages (from datasets) (6.0.1)\n",
            "Requirement already satisfied: aiosignal>=1.1.2 in /usr/local/lib/python3.10/dist-packages (from aiohttp->datasets) (1.3.1)\n",
            "Requirement already satisfied: attrs>=17.3.0 in /usr/local/lib/python3.10/dist-packages (from aiohttp->datasets) (23.2.0)\n",
            "Requirement already satisfied: frozenlist>=1.1.1 in /usr/local/lib/python3.10/dist-packages (from aiohttp->datasets) (1.4.1)\n",
            "Requirement already satisfied: multidict<7.0,>=4.5 in /usr/local/lib/python3.10/dist-packages (from aiohttp->datasets) (6.0.4)\n",
            "Requirement already satisfied: yarl<2.0,>=1.0 in /usr/local/lib/python3.10/dist-packages (from aiohttp->datasets) (1.9.4)\n",
            "Requirement already satisfied: async-timeout<5.0,>=4.0 in /usr/local/lib/python3.10/dist-packages (from aiohttp->datasets) (4.0.3)\n",
            "Requirement already satisfied: typing-extensions>=3.7.4.3 in /usr/local/lib/python3.10/dist-packages (from huggingface-hub>=0.19.4->datasets) (4.5.0)\n",
            "Requirement already satisfied: charset-normalizer<4,>=2 in /usr/local/lib/python3.10/dist-packages (from requests>=2.19.0->datasets) (3.3.2)\n",
            "Requirement already satisfied: idna<4,>=2.5 in /usr/local/lib/python3.10/dist-packages (from requests>=2.19.0->datasets) (3.6)\n",
            "Requirement already satisfied: urllib3<3,>=1.21.1 in /usr/local/lib/python3.10/dist-packages (from requests>=2.19.0->datasets) (2.0.7)\n",
            "Requirement already satisfied: certifi>=2017.4.17 in /usr/local/lib/python3.10/dist-packages (from requests>=2.19.0->datasets) (2023.11.17)\n",
            "Requirement already satisfied: python-dateutil>=2.8.1 in /usr/local/lib/python3.10/dist-packages (from pandas->datasets) (2.8.2)\n",
            "Requirement already satisfied: pytz>=2020.1 in /usr/local/lib/python3.10/dist-packages (from pandas->datasets) (2023.4)\n",
            "Requirement already satisfied: six>=1.5 in /usr/local/lib/python3.10/dist-packages (from python-dateutil>=2.8.1->pandas->datasets) (1.16.0)\n"
          ]
        }
      ],
      "source": [
        "pip install datasets"
      ]
    },
    {
      "cell_type": "code",
      "execution_count": 7,
      "metadata": {
        "id": "LswEAuYL98B2"
      },
      "outputs": [],
      "source": [
        "# Import packages\n",
        "from datasets import load_dataset\n",
        "from collections import defaultdict\n",
        "from datasets import DatasetDict\n",
        "import random\n",
        "import pandas as pd\n",
        "import numpy as np\n",
        "import tensorflow as tf\n",
        "import matplotlib.pyplot as plt\n",
        "from tensorflow.keras.preprocessing.text import Tokenizer\n",
        "from tensorflow.keras.preprocessing.sequence import pad_sequences\n",
        "from sklearn.metrics import accuracy_score, f1_score, confusion_matrix\n",
        "import spacy\n",
        "from spacy import displacy\n",
        "import itertools\n",
        "from IPython.core.display import display, HTML"
      ]
    },
    {
      "cell_type": "markdown",
      "source": [
        "We first download the data from huggingface and make a dictionary that contains english, french, german and italian dataset. For each languages it contain id, language, words and NER as keys."
      ],
      "metadata": {
        "id": "yIZC8sJ4QkIS"
      }
    },
    {
      "cell_type": "code",
      "execution_count": 8,
      "metadata": {
        "colab": {
          "base_uri": "https://localhost:8080/",
          "height": 172,
          "referenced_widgets": [
            "08ba45dd05e849ee8051aa4dcf64069d",
            "0c38dfd9030143ca8a9fc53c853996f2",
            "4517806d49bc46ceaf17ab6687746d5e",
            "0117bfc45ba6419f80fd8edde8092e1d",
            "7e073e9d0b604dc8b887d79faae225b7",
            "d2f8f4d045df4498a86d2ce919726763",
            "c978b11ffdab43b0b2f4bc739830753a",
            "696a54d5227848e1ba1a10b9cbca0095",
            "a3fa16f426c94faea8cbc3807adb10fc",
            "c19127a620954e3e99b215d5b4f408f8",
            "6cc09a1b90c847429410fab50918b790",
            "e8633cbe6e154c74a35cbe42e9e8e49d",
            "ef66be9a67194e12825e96c37a89f9ba",
            "8309ae781d44465286a27b69a8b36d0b",
            "ed33dc1f3c21419098b2791295974f9e",
            "bdc5cece37534a4e8f39e993aa42e7c3",
            "ec0e250f6f824703b36a7b92d2ca991d",
            "3c510b6ec7224dcf85d8370e8eaddba5",
            "b6e93f1b9c754ac08fda836f08fb2e30",
            "06ffb482fea340029de2a9afce73a216",
            "db836425c71945c09056610df5d89bf5",
            "621d2c6e5022419ca212904b127cbfb7"
          ]
        },
        "id": "l7br9myCvqxY",
        "outputId": "ae65fe5a-46a4-4a9d-ee58-9f4094a04251"
      },
      "outputs": [
        {
          "output_type": "stream",
          "name": "stderr",
          "text": [
            "/usr/local/lib/python3.10/dist-packages/datasets/load.py:1429: FutureWarning: The repository for polyglot_ner contains custom code which must be executed to correctly load the dataset. You can inspect the repository content at https://hf.co/datasets/polyglot_ner\n",
            "You can avoid this message in future by passing the argument `trust_remote_code=True`.\n",
            "Passing `trust_remote_code=True` will be mandatory to load this dataset from the next major release of `datasets`.\n",
            "  warnings.warn(\n"
          ]
        },
        {
          "output_type": "display_data",
          "data": {
            "text/plain": [
              "Generating train split:   0%|          | 0/418411 [00:00<?, ? examples/s]"
            ],
            "application/vnd.jupyter.widget-view+json": {
              "version_major": 2,
              "version_minor": 0,
              "model_id": "08ba45dd05e849ee8051aa4dcf64069d"
            }
          },
          "metadata": {}
        },
        {
          "output_type": "display_data",
          "data": {
            "text/plain": [
              "Generating train split:   0%|          | 0/547578 [00:00<?, ? examples/s]"
            ],
            "application/vnd.jupyter.widget-view+json": {
              "version_major": 2,
              "version_minor": 0,
              "model_id": "e8633cbe6e154c74a35cbe42e9e8e49d"
            }
          },
          "metadata": {}
        }
      ],
      "source": [
        "# retrieve multilingual dataset\n",
        "def get_multilingual_dataset(langs):\n",
        "    panx_ch = defaultdict(DatasetDict)\n",
        "\n",
        "    for lang in langs:\n",
        "        # Load polyglot_ner dataset for the specified language\n",
        "        ds = load_dataset(\"polyglot_ner\", name=lang,split=\"train[:3%]\")\n",
        "\n",
        "        # Assign the dataset to the panx_ch dictionary\n",
        "        panx_ch[lang] = ds\n",
        "\n",
        "    return panx_ch\n",
        "\n",
        "langs = [ 'en', 'it','fr','de']\n",
        "multilingual_dataset = get_multilingual_dataset(langs)\n"
      ]
    },
    {
      "cell_type": "code",
      "execution_count": 9,
      "metadata": {
        "colab": {
          "base_uri": "https://localhost:8080/"
        },
        "id": "AqU3uUEBQsH8",
        "outputId": "c0ba78ee-8ab6-447e-d5fc-9245c461294c"
      },
      "outputs": [
        {
          "output_type": "stream",
          "name": "stdout",
          "text": [
            "id: 0\n",
            "lang: en\n",
            "words: ['The', 'basilikon', '(', ',', '\"', 'imperial', '[', 'coin', ']', '\"', ')', ',', 'commonly', 'also', 'referred', 'to', 'as', 'the', 'doukaton', '(', 'Greek', ':', 'δουκάτον', ')', ',', 'was', 'a', 'widely', 'circulated', 'Byzantine', 'silver', 'coin', 'of', 'the', 'first', 'half', 'of', 'the', '14th', 'century', '.']\n",
            "ner: ['O', 'O', 'O', 'O', 'O', 'O', 'O', 'O', 'O', 'O', 'O', 'O', 'O', 'O', 'O', 'O', 'O', 'O', 'O', 'O', 'O', 'O', 'O', 'O', 'O', 'O', 'O', 'O', 'O', 'LOC', 'O', 'O', 'O', 'O', 'O', 'O', 'O', 'O', 'O', 'O', 'O']\n"
          ]
        }
      ],
      "source": [
        "# Access the first example in the English dataset\n",
        "element = multilingual_dataset[\"en\"][0]\n",
        "for key, value in element.items():\n",
        "    print(f\"{key}: {value}\")"
      ]
    },
    {
      "cell_type": "markdown",
      "source": [
        "We can also check the number of sentences that is included for each languages."
      ],
      "metadata": {
        "id": "s4xpxRoM07Kv"
      }
    },
    {
      "cell_type": "code",
      "execution_count": 10,
      "metadata": {
        "colab": {
          "base_uri": "https://localhost:8080/"
        },
        "id": "51EeO0V1eERF",
        "outputId": "5c6cfdbe-4127-4610-803e-2e0fc0e9751c"
      },
      "outputs": [
        {
          "output_type": "execute_result",
          "data": {
            "text/plain": [
              "defaultdict(datasets.dataset_dict.DatasetDict,\n",
              "            {'en': Dataset({\n",
              "                 features: ['id', 'lang', 'words', 'ner'],\n",
              "                 num_rows: 12719\n",
              "             }),\n",
              "             'it': Dataset({\n",
              "                 features: ['id', 'lang', 'words', 'ner'],\n",
              "                 num_rows: 11350\n",
              "             }),\n",
              "             'fr': Dataset({\n",
              "                 features: ['id', 'lang', 'words', 'ner'],\n",
              "                 num_rows: 12552\n",
              "             }),\n",
              "             'de': Dataset({\n",
              "                 features: ['id', 'lang', 'words', 'ner'],\n",
              "                 num_rows: 16427\n",
              "             })})"
            ]
          },
          "metadata": {},
          "execution_count": 10
        }
      ],
      "source": [
        "multilingual_dataset"
      ]
    },
    {
      "cell_type": "markdown",
      "source": [
        "We then make the dictionary into pandas dataframe format by combining the words into sentences and NER tags. We also shuffle all the sentences so that the model learns the languages in a random order."
      ],
      "metadata": {
        "id": "B-mqY-YH1Ju-"
      }
    },
    {
      "cell_type": "code",
      "execution_count": 11,
      "metadata": {
        "colab": {
          "base_uri": "https://localhost:8080/",
          "height": 206
        },
        "id": "AlfV60Iid3M_",
        "outputId": "93ec9a95-7f13-4775-a3d1-252e34a97806"
      },
      "outputs": [
        {
          "output_type": "execute_result",
          "data": {
            "text/plain": [
              "  Language                                  Combined_Sentence  \\\n",
              "0       it  Quando Trujillo salì al potere , la loro famig...   \n",
              "1       fr  Carrière Rodney Soher participe aux Jeux olymp...   \n",
              "2       it  Nell'aprile 2013 sostituisce per una settimana...   \n",
              "3       fr      Biographie Carrière Filmographie Lien externe   \n",
              "4       en                          References External links   \n",
              "\n",
              "                                                 NER  \n",
              "0  [O, O, O, O, O, O, O, O, O, O, O, O, O, O, O, ...  \n",
              "1  [O, PER, PER, O, O, O, O, O, O, O, LOC, O, O, ...  \n",
              "2  [O, O, O, O, O, O, O, O, O, O, O, O, O, O, O, ...  \n",
              "3                                    [O, O, O, O, O]  \n",
              "4                                          [O, O, O]  "
            ],
            "text/html": [
              "\n",
              "  <div id=\"df-ebe74fdf-cd94-4e1e-b635-35ffcb4daa7f\" class=\"colab-df-container\">\n",
              "    <div>\n",
              "<style scoped>\n",
              "    .dataframe tbody tr th:only-of-type {\n",
              "        vertical-align: middle;\n",
              "    }\n",
              "\n",
              "    .dataframe tbody tr th {\n",
              "        vertical-align: top;\n",
              "    }\n",
              "\n",
              "    .dataframe thead th {\n",
              "        text-align: right;\n",
              "    }\n",
              "</style>\n",
              "<table border=\"1\" class=\"dataframe\">\n",
              "  <thead>\n",
              "    <tr style=\"text-align: right;\">\n",
              "      <th></th>\n",
              "      <th>Language</th>\n",
              "      <th>Combined_Sentence</th>\n",
              "      <th>NER</th>\n",
              "    </tr>\n",
              "  </thead>\n",
              "  <tbody>\n",
              "    <tr>\n",
              "      <th>0</th>\n",
              "      <td>it</td>\n",
              "      <td>Quando Trujillo salì al potere , la loro famig...</td>\n",
              "      <td>[O, O, O, O, O, O, O, O, O, O, O, O, O, O, O, ...</td>\n",
              "    </tr>\n",
              "    <tr>\n",
              "      <th>1</th>\n",
              "      <td>fr</td>\n",
              "      <td>Carrière Rodney Soher participe aux Jeux olymp...</td>\n",
              "      <td>[O, PER, PER, O, O, O, O, O, O, O, LOC, O, O, ...</td>\n",
              "    </tr>\n",
              "    <tr>\n",
              "      <th>2</th>\n",
              "      <td>it</td>\n",
              "      <td>Nell'aprile 2013 sostituisce per una settimana...</td>\n",
              "      <td>[O, O, O, O, O, O, O, O, O, O, O, O, O, O, O, ...</td>\n",
              "    </tr>\n",
              "    <tr>\n",
              "      <th>3</th>\n",
              "      <td>fr</td>\n",
              "      <td>Biographie Carrière Filmographie Lien externe</td>\n",
              "      <td>[O, O, O, O, O]</td>\n",
              "    </tr>\n",
              "    <tr>\n",
              "      <th>4</th>\n",
              "      <td>en</td>\n",
              "      <td>References External links</td>\n",
              "      <td>[O, O, O]</td>\n",
              "    </tr>\n",
              "  </tbody>\n",
              "</table>\n",
              "</div>\n",
              "    <div class=\"colab-df-buttons\">\n",
              "\n",
              "  <div class=\"colab-df-container\">\n",
              "    <button class=\"colab-df-convert\" onclick=\"convertToInteractive('df-ebe74fdf-cd94-4e1e-b635-35ffcb4daa7f')\"\n",
              "            title=\"Convert this dataframe to an interactive table.\"\n",
              "            style=\"display:none;\">\n",
              "\n",
              "  <svg xmlns=\"http://www.w3.org/2000/svg\" height=\"24px\" viewBox=\"0 -960 960 960\">\n",
              "    <path d=\"M120-120v-720h720v720H120Zm60-500h600v-160H180v160Zm220 220h160v-160H400v160Zm0 220h160v-160H400v160ZM180-400h160v-160H180v160Zm440 0h160v-160H620v160ZM180-180h160v-160H180v160Zm440 0h160v-160H620v160Z\"/>\n",
              "  </svg>\n",
              "    </button>\n",
              "\n",
              "  <style>\n",
              "    .colab-df-container {\n",
              "      display:flex;\n",
              "      gap: 12px;\n",
              "    }\n",
              "\n",
              "    .colab-df-convert {\n",
              "      background-color: #E8F0FE;\n",
              "      border: none;\n",
              "      border-radius: 50%;\n",
              "      cursor: pointer;\n",
              "      display: none;\n",
              "      fill: #1967D2;\n",
              "      height: 32px;\n",
              "      padding: 0 0 0 0;\n",
              "      width: 32px;\n",
              "    }\n",
              "\n",
              "    .colab-df-convert:hover {\n",
              "      background-color: #E2EBFA;\n",
              "      box-shadow: 0px 1px 2px rgba(60, 64, 67, 0.3), 0px 1px 3px 1px rgba(60, 64, 67, 0.15);\n",
              "      fill: #174EA6;\n",
              "    }\n",
              "\n",
              "    .colab-df-buttons div {\n",
              "      margin-bottom: 4px;\n",
              "    }\n",
              "\n",
              "    [theme=dark] .colab-df-convert {\n",
              "      background-color: #3B4455;\n",
              "      fill: #D2E3FC;\n",
              "    }\n",
              "\n",
              "    [theme=dark] .colab-df-convert:hover {\n",
              "      background-color: #434B5C;\n",
              "      box-shadow: 0px 1px 3px 1px rgba(0, 0, 0, 0.15);\n",
              "      filter: drop-shadow(0px 1px 2px rgba(0, 0, 0, 0.3));\n",
              "      fill: #FFFFFF;\n",
              "    }\n",
              "  </style>\n",
              "\n",
              "    <script>\n",
              "      const buttonEl =\n",
              "        document.querySelector('#df-ebe74fdf-cd94-4e1e-b635-35ffcb4daa7f button.colab-df-convert');\n",
              "      buttonEl.style.display =\n",
              "        google.colab.kernel.accessAllowed ? 'block' : 'none';\n",
              "\n",
              "      async function convertToInteractive(key) {\n",
              "        const element = document.querySelector('#df-ebe74fdf-cd94-4e1e-b635-35ffcb4daa7f');\n",
              "        const dataTable =\n",
              "          await google.colab.kernel.invokeFunction('convertToInteractive',\n",
              "                                                    [key], {});\n",
              "        if (!dataTable) return;\n",
              "\n",
              "        const docLinkHtml = 'Like what you see? Visit the ' +\n",
              "          '<a target=\"_blank\" href=https://colab.research.google.com/notebooks/data_table.ipynb>data table notebook</a>'\n",
              "          + ' to learn more about interactive tables.';\n",
              "        element.innerHTML = '';\n",
              "        dataTable['output_type'] = 'display_data';\n",
              "        await google.colab.output.renderOutput(dataTable, element);\n",
              "        const docLink = document.createElement('div');\n",
              "        docLink.innerHTML = docLinkHtml;\n",
              "        element.appendChild(docLink);\n",
              "      }\n",
              "    </script>\n",
              "  </div>\n",
              "\n",
              "\n",
              "<div id=\"df-63f5921b-a58e-41cb-bc4b-b978435ef579\">\n",
              "  <button class=\"colab-df-quickchart\" onclick=\"quickchart('df-63f5921b-a58e-41cb-bc4b-b978435ef579')\"\n",
              "            title=\"Suggest charts\"\n",
              "            style=\"display:none;\">\n",
              "\n",
              "<svg xmlns=\"http://www.w3.org/2000/svg\" height=\"24px\"viewBox=\"0 0 24 24\"\n",
              "     width=\"24px\">\n",
              "    <g>\n",
              "        <path d=\"M19 3H5c-1.1 0-2 .9-2 2v14c0 1.1.9 2 2 2h14c1.1 0 2-.9 2-2V5c0-1.1-.9-2-2-2zM9 17H7v-7h2v7zm4 0h-2V7h2v10zm4 0h-2v-4h2v4z\"/>\n",
              "    </g>\n",
              "</svg>\n",
              "  </button>\n",
              "\n",
              "<style>\n",
              "  .colab-df-quickchart {\n",
              "      --bg-color: #E8F0FE;\n",
              "      --fill-color: #1967D2;\n",
              "      --hover-bg-color: #E2EBFA;\n",
              "      --hover-fill-color: #174EA6;\n",
              "      --disabled-fill-color: #AAA;\n",
              "      --disabled-bg-color: #DDD;\n",
              "  }\n",
              "\n",
              "  [theme=dark] .colab-df-quickchart {\n",
              "      --bg-color: #3B4455;\n",
              "      --fill-color: #D2E3FC;\n",
              "      --hover-bg-color: #434B5C;\n",
              "      --hover-fill-color: #FFFFFF;\n",
              "      --disabled-bg-color: #3B4455;\n",
              "      --disabled-fill-color: #666;\n",
              "  }\n",
              "\n",
              "  .colab-df-quickchart {\n",
              "    background-color: var(--bg-color);\n",
              "    border: none;\n",
              "    border-radius: 50%;\n",
              "    cursor: pointer;\n",
              "    display: none;\n",
              "    fill: var(--fill-color);\n",
              "    height: 32px;\n",
              "    padding: 0;\n",
              "    width: 32px;\n",
              "  }\n",
              "\n",
              "  .colab-df-quickchart:hover {\n",
              "    background-color: var(--hover-bg-color);\n",
              "    box-shadow: 0 1px 2px rgba(60, 64, 67, 0.3), 0 1px 3px 1px rgba(60, 64, 67, 0.15);\n",
              "    fill: var(--button-hover-fill-color);\n",
              "  }\n",
              "\n",
              "  .colab-df-quickchart-complete:disabled,\n",
              "  .colab-df-quickchart-complete:disabled:hover {\n",
              "    background-color: var(--disabled-bg-color);\n",
              "    fill: var(--disabled-fill-color);\n",
              "    box-shadow: none;\n",
              "  }\n",
              "\n",
              "  .colab-df-spinner {\n",
              "    border: 2px solid var(--fill-color);\n",
              "    border-color: transparent;\n",
              "    border-bottom-color: var(--fill-color);\n",
              "    animation:\n",
              "      spin 1s steps(1) infinite;\n",
              "  }\n",
              "\n",
              "  @keyframes spin {\n",
              "    0% {\n",
              "      border-color: transparent;\n",
              "      border-bottom-color: var(--fill-color);\n",
              "      border-left-color: var(--fill-color);\n",
              "    }\n",
              "    20% {\n",
              "      border-color: transparent;\n",
              "      border-left-color: var(--fill-color);\n",
              "      border-top-color: var(--fill-color);\n",
              "    }\n",
              "    30% {\n",
              "      border-color: transparent;\n",
              "      border-left-color: var(--fill-color);\n",
              "      border-top-color: var(--fill-color);\n",
              "      border-right-color: var(--fill-color);\n",
              "    }\n",
              "    40% {\n",
              "      border-color: transparent;\n",
              "      border-right-color: var(--fill-color);\n",
              "      border-top-color: var(--fill-color);\n",
              "    }\n",
              "    60% {\n",
              "      border-color: transparent;\n",
              "      border-right-color: var(--fill-color);\n",
              "    }\n",
              "    80% {\n",
              "      border-color: transparent;\n",
              "      border-right-color: var(--fill-color);\n",
              "      border-bottom-color: var(--fill-color);\n",
              "    }\n",
              "    90% {\n",
              "      border-color: transparent;\n",
              "      border-bottom-color: var(--fill-color);\n",
              "    }\n",
              "  }\n",
              "</style>\n",
              "\n",
              "  <script>\n",
              "    async function quickchart(key) {\n",
              "      const quickchartButtonEl =\n",
              "        document.querySelector('#' + key + ' button');\n",
              "      quickchartButtonEl.disabled = true;  // To prevent multiple clicks.\n",
              "      quickchartButtonEl.classList.add('colab-df-spinner');\n",
              "      try {\n",
              "        const charts = await google.colab.kernel.invokeFunction(\n",
              "            'suggestCharts', [key], {});\n",
              "      } catch (error) {\n",
              "        console.error('Error during call to suggestCharts:', error);\n",
              "      }\n",
              "      quickchartButtonEl.classList.remove('colab-df-spinner');\n",
              "      quickchartButtonEl.classList.add('colab-df-quickchart-complete');\n",
              "    }\n",
              "    (() => {\n",
              "      let quickchartButtonEl =\n",
              "        document.querySelector('#df-63f5921b-a58e-41cb-bc4b-b978435ef579 button');\n",
              "      quickchartButtonEl.style.display =\n",
              "        google.colab.kernel.accessAllowed ? 'block' : 'none';\n",
              "    })();\n",
              "  </script>\n",
              "</div>\n",
              "    </div>\n",
              "  </div>\n"
            ]
          },
          "metadata": {},
          "execution_count": 11
        }
      ],
      "source": [
        "def create_combined_sentences_dataframe(dataset):\n",
        "    data = {'Language': [], 'Combined_Sentence': [], 'NER': []}\n",
        "\n",
        "    for lang, lang_dataset in dataset.items():\n",
        "        sentences = lang_dataset['words']\n",
        "        ner_labels = lang_dataset['ner']\n",
        "\n",
        "        for sentence, ner_label in zip(sentences, ner_labels):\n",
        "            combined_sentence = ' '.join(sentence)\n",
        "            data['Language'].append(lang)\n",
        "            data['Combined_Sentence'].append(combined_sentence)\n",
        "            data['NER'].append(ner_label)\n",
        "\n",
        "    df = pd.DataFrame(data)\n",
        "\n",
        "    # Shuffle the DataFrame\n",
        "    df = df.sample(frac=1, random_state=42).reset_index(drop=True)\n",
        "\n",
        "    return df\n",
        "\n",
        "# Create multilingual dataframe\n",
        "df_combined_sentences = create_combined_sentences_dataframe(multilingual_dataset)\n",
        "\n",
        "# Display the DataFrame\n",
        "df_combined_sentences.head()"
      ]
    },
    {
      "cell_type": "code",
      "execution_count": 12,
      "metadata": {
        "id": "iLm32QzEomXZ"
      },
      "outputs": [],
      "source": [
        "# Create a function that defines X (sentence) and Y (NER) from given dataset\n",
        "def df_to_XY(data):\n",
        "    X =  list(data['Combined_Sentence'])\n",
        "    Y = list(data['NER'])\n",
        "    return X,Y\n",
        "\n",
        "X, Y = df_to_XY(df_combined_sentences)"
      ]
    },
    {
      "cell_type": "code",
      "execution_count": 13,
      "metadata": {
        "colab": {
          "base_uri": "https://localhost:8080/"
        },
        "id": "eZo9pJ2Tomdr",
        "outputId": "29b84c9e-dba3-4992-ece9-3910eed1b705"
      },
      "outputs": [
        {
          "output_type": "stream",
          "name": "stdout",
          "text": [
            "First three sentences: \n",
            "\n",
            "['Quando Trujillo salì al potere , la loro famiglia ( come molte altre nel paese ) perse quasi totalmente i propri beni , prima nazionalizzati , poi incamerati direttamente dal dittatore nei suoi beni privati .', \"Carrière Rodney Soher participe aux Jeux olympiques de 1924 à Chamonix et remporte la médaille d'argent en bob à quatre , avec Thomas Arnold , Alexander Richardson et Ralph Broome .\", \"Nell'aprile 2013 sostituisce per una settimana Linus e Nicola Savino a Deejay chiama Italia , in coppia con Vic .\"]\n",
            "Corresponding NERs: \n",
            "\n",
            "[['O', 'O', 'O', 'O', 'O', 'O', 'O', 'O', 'O', 'O', 'O', 'O', 'O', 'O', 'O', 'O', 'O', 'O', 'O', 'O', 'O', 'O', 'O', 'O', 'O', 'O', 'O', 'O', 'O', 'O', 'O', 'O', 'O', 'O', 'O', 'O'], ['O', 'PER', 'PER', 'O', 'O', 'O', 'O', 'O', 'O', 'O', 'LOC', 'O', 'O', 'O', 'O', 'O', 'O', 'O', 'O', 'O', 'O', 'O', 'PER', 'PER', 'O', 'PER', 'PER', 'O', 'PER', 'PER', 'O'], ['O', 'O', 'O', 'O', 'O', 'O', 'O', 'O', 'O', 'O', 'O', 'O', 'O', 'O', 'O', 'O', 'O', 'O', 'LOC', 'O']]\n"
          ]
        }
      ],
      "source": [
        "print(\"First three sentences: \\n\")\n",
        "print(X[:3])\n",
        "\n",
        "print(\"Corresponding NERs: \\n\")\n",
        "print(Y[:3])"
      ]
    },
    {
      "cell_type": "markdown",
      "metadata": {
        "id": "9NpWPMbvqeIr"
      },
      "source": [
        "# Tokenizing and word embedding padding\n",
        "We tokenize the sentences and map each word to a unique identifier, then pad them because neural network need the input sentences to have the same length. We limit the input vector to have a maximum length of 120 and model to memorize up to 150000 unique words.\n"
      ]
    },
    {
      "cell_type": "code",
      "source": [
        "# Define a function that tokenizes and numericalize the sentence and returns dictionary that matches word to index and vice versa\n",
        "def token_index(X, maxlen,max_words):\n",
        "\n",
        "    '''Returns tokenized and numericalized sentences and dictionaries '''\n",
        "\n",
        "    # Tokenize each sentence in the dataset\n",
        "    tokenizer = Tokenizer(num_words = max_words)\n",
        "    tokenizer.fit_on_texts(X)\n",
        "    # Create a unique number for each words\n",
        "    sequences = tokenizer.texts_to_sequences(X)\n",
        "    word_index = tokenizer.word_index\n",
        "    print(\"Found {} unique tokens.\".format(len(word_index)))\n",
        "\n",
        "    # Define word index (words to unique numbers)\n",
        "    word2id = word_index\n",
        "    # Also create a dictionary that combines unique numbers to words\n",
        "    id2word = {}\n",
        "    for key, value in word2id.items():\n",
        "        id2word[value] = key\n",
        "    return sequences, word2id, id2word\n",
        "\n",
        "########## Parameters ##########\n",
        "# Set the maximum length of the sentence to 120\n",
        "maxlen = 120\n",
        "maxwords = 150000\n",
        "\n",
        "sequences, word2id, id2word = token_index(X,maxlen,maxwords)\n",
        "\n",
        "# Pad the sequences so that all sequences are of the same size\n",
        "X_preprocessed = pad_sequences(sequences, maxlen=maxlen, padding='post')\n",
        "# Note that now all the sentences have same length (120 words)\n",
        "len(X_preprocessed[0]), len(X_preprocessed[1])"
      ],
      "metadata": {
        "colab": {
          "base_uri": "https://localhost:8080/"
        },
        "id": "MUJ_gOWwNUKo",
        "outputId": "df5088fb-f852-40d9-abc9-00aff5827157"
      },
      "execution_count": 14,
      "outputs": [
        {
          "output_type": "stream",
          "name": "stdout",
          "text": [
            "Found 137339 unique tokens.\n"
          ]
        },
        {
          "output_type": "execute_result",
          "data": {
            "text/plain": [
              "(120, 120)"
            ]
          },
          "metadata": {},
          "execution_count": 14
        }
      ]
    },
    {
      "cell_type": "markdown",
      "source": [
        "According to the polygot-NER documentation there is four different entities: Location(LOC), Organization(ORG), Person(PER) and Nonentity(O). We assigned unique numbers to each entity to make sure that the format readable for neural network.\n",
        "\n",
        "Also, we preprocess tags by assigning a unique identifier for each tags and pad the tags by using O tag to make sure that tags for each sentences have the same length.\n"
      ],
      "metadata": {
        "id": "Yw2U7mA_TqCp"
      }
    },
    {
      "cell_type": "code",
      "source": [
        "# Create dictionaries that assigns each entity to unique number and vice versa\n",
        "tags2id = {\n",
        "    'O' : 0,\n",
        "    'LOC' : 1,\n",
        "    'ORG' : 2,\n",
        "    'PER' : 3\n",
        "}\n",
        "id2tag = {}\n",
        "for key, value in tags2id.items():\n",
        "    id2tag[value] = key\n",
        "\n",
        "'''Function that function that cuts off sentences after max words and assigns unique numbers to each NER tag,\n",
        " adding O if the sentence length is less than 120 words'''\n",
        "\n",
        "def preprocess_tags(Y, tags2id, max_length):\n",
        "\n",
        "    # Cutoff sentences after max_length words\n",
        "    Y_cut_off = [sentence[:max_length] if len(sentence) > max_length else sentence for sentence in Y]\n",
        "\n",
        "    # Assign unique numbers to each tag using the tags2id dictionary\n",
        "    Y_encoded = [[tags2id.get(tag, tags2id['O']) for tag in sentence] for sentence in Y_cut_off]\n",
        "\n",
        "    # Pad the tags to have same length\n",
        "    Y_padded = [sentence + [tags2id['O']] * (max_length - len(sentence)) for sentence in Y_encoded]\n",
        "\n",
        "\n",
        "    # Convert to NumPy array\n",
        "    Y_array = np.vstack(Y_padded).astype(np.int32)\n",
        "\n",
        "    return Y_array\n",
        "\n",
        "# Preprocess tags\n",
        "Y_preprocessed = preprocess_tags(Y, tags2id, maxlen)"
      ],
      "metadata": {
        "id": "2Sgb8n1Vn6xy"
      },
      "execution_count": 15,
      "outputs": []
    },
    {
      "cell_type": "markdown",
      "source": [
        "Now we split the preprocessed data into train (80%) and the test set (20%)."
      ],
      "metadata": {
        "id": "F0oOBPjQBcJM"
      }
    },
    {
      "cell_type": "code",
      "source": [
        "# Split train and test set\n",
        "X_preprocessed = np.asarray(X_preprocessed)\n",
        "Y_preprocessed = np.asarray(Y_preprocessed)\n",
        "\n",
        "\n",
        "# 80% of the data will be used for training and validation (5-fold CV)\n",
        "training_samples = 0.8\n",
        "# 20% of the data will be used for testing\n",
        "testing_samples = 0.2\n",
        "\n",
        "indices = np.arange(len(Y))\n",
        "\n",
        "X_train = X_preprocessed[: int(training_samples * len(X_preprocessed))]\n",
        "print(\"Number of training examples: {}\".format(len(X_train)))\n",
        "\n",
        "X_test = X_preprocessed[int(training_samples * len(X_preprocessed)) + 1 : ]\n",
        "print(\"Number of testing examples: {}\".format(len(X_test)))\n",
        "\n",
        "Y_train = Y_preprocessed[: int(training_samples * len(X))]\n",
        "\n",
        "# Note that we use original target values (no cutoff and no padding) for test set\n",
        "Y_test = Y_preprocessed[int(training_samples * len(X)) + 1 : ]\n",
        "\n",
        "print(\"Total number of examples after shuffling and splitting: {}\".format(len(X_train) + len(X_test)))"
      ],
      "metadata": {
        "colab": {
          "base_uri": "https://localhost:8080/"
        },
        "id": "UiD85ar4DIbA",
        "outputId": "541f3832-6d9b-4fae-dc91-1a8bf060e872"
      },
      "execution_count": 16,
      "outputs": [
        {
          "output_type": "stream",
          "name": "stdout",
          "text": [
            "Number of training examples: 42438\n",
            "Number of testing examples: 10609\n",
            "Total number of examples after shuffling and splitting: 53047\n"
          ]
        }
      ]
    },
    {
      "cell_type": "markdown",
      "source": [
        "# Model\n",
        "Now we build a model which includes embedding layer with dimension size 300, two bidirectional LSTM layers and time distributed layer. The model used batch size of 100 and buffer size of 132."
      ],
      "metadata": {
        "id": "c7XdwklmBmDv"
      }
    },
    {
      "cell_type": "code",
      "source": [
        "# Initialize model\n",
        "##### Parameters #####\n",
        "batch_size = 100\n",
        "buffer_size = 132\n",
        "\n",
        "test_dataset = tf.data.Dataset.from_tensor_slices((X_test, Y_test))\n",
        "test_dataset = test_dataset.batch(batch_size)\n",
        "\n",
        "embedding_dim = 300\n",
        "num_tags = 4 # We have 4 different entities\n",
        "\n",
        "# Build and compile the model\n",
        "model = tf.keras.models.Sequential([\n",
        "    tf.keras.layers.Embedding(maxwords, embedding_dim, input_length=maxlen),\n",
        "    tf.keras.layers.Bidirectional(tf.keras.layers.LSTM(units=100, activation='tanh', return_sequences=True)),\n",
        "    tf.keras.layers.Bidirectional(tf.keras.layers.LSTM(units=100, activation='tanh', return_sequences=True)),\n",
        "    tf.keras.layers.TimeDistributed(tf.keras.layers.Dense(num_tags, activation='softmax'))\n",
        "])\n",
        "model.compile(loss='sparse_categorical_crossentropy', optimizer='adam', metrics=['accuracy'])\n",
        "\n",
        "model.summary()\n",
        "\n",
        "# Call GPU\n",
        "device_name = tf.test.gpu_device_name()\n",
        "if device_name != '/device:GPU:0':\n",
        "  raise SystemError('GPU device not found')\n",
        "print('Found GPU at: {}'.format(device_name))\n"
      ],
      "metadata": {
        "colab": {
          "base_uri": "https://localhost:8080/"
        },
        "id": "J148KrZ1onYw",
        "outputId": "8a99d06c-b987-4110-8aeb-f4742db68ec6"
      },
      "execution_count": 17,
      "outputs": [
        {
          "output_type": "stream",
          "name": "stdout",
          "text": [
            "Model: \"sequential\"\n",
            "_________________________________________________________________\n",
            " Layer (type)                Output Shape              Param #   \n",
            "=================================================================\n",
            " embedding (Embedding)       (None, 120, 300)          45000000  \n",
            "                                                                 \n",
            " bidirectional (Bidirection  (None, 120, 200)          320800    \n",
            " al)                                                             \n",
            "                                                                 \n",
            " bidirectional_1 (Bidirecti  (None, 120, 200)          240800    \n",
            " onal)                                                           \n",
            "                                                                 \n",
            " time_distributed (TimeDist  (None, 120, 4)            804       \n",
            " ributed)                                                        \n",
            "                                                                 \n",
            "=================================================================\n",
            "Total params: 45562404 (173.81 MB)\n",
            "Trainable params: 45562404 (173.81 MB)\n",
            "Non-trainable params: 0 (0.00 Byte)\n",
            "_________________________________________________________________\n",
            "Found GPU at: /device:GPU:0\n"
          ]
        }
      ]
    },
    {
      "cell_type": "markdown",
      "source": [
        "5-fold cross validation was used to assess the generalization performance of the model."
      ],
      "metadata": {
        "id": "EvRb9nuZCKU0"
      }
    },
    {
      "cell_type": "code",
      "source": [
        "# Combine X_preprocessed and Y_preprocessed into a tuple\n",
        "data = list(zip(X_preprocessed, Y_preprocessed))\n",
        "\n",
        "# Define the number of folds\n",
        "num_folds = 5\n",
        "\n",
        "# Initialize lists to store results\n",
        "all_train_histories = []\n",
        "all_val_histories = []\n",
        "\n",
        "# Perform k-fold cross-validation\n",
        "for fold in range(num_folds):\n",
        "    print(f\"\\nTraining fold {fold + 1}/{num_folds}\")\n",
        "\n",
        "    # Split data into train and validation sets\n",
        "    fold_size = len(data) // num_folds\n",
        "    val_data = data[fold * fold_size:(fold + 1) * fold_size]\n",
        "    train_data = data[:fold * fold_size] + data[(fold + 1) * fold_size:]\n",
        "\n",
        "    # Shuffle training data\n",
        "    np.random.shuffle(train_data)\n",
        "\n",
        "    # Split train_data into X_train and Y_train\n",
        "    X_train, Y_train = zip(*train_data)\n",
        "\n",
        "    # Create TensorFlow datasets\n",
        "    train_dataset = tf.data.Dataset.from_tensor_slices((np.asarray(X_train), np.asarray(Y_train))).shuffle(buffer_size).batch(batch_size)\n",
        "    val_dataset = tf.data.Dataset.from_tensor_slices((np.asarray(val_data)[:, 0], np.asarray(val_data)[:, 1])).batch(batch_size)\n",
        "\n",
        "    # Define the model\n",
        "    model = tf.keras.models.Sequential([\n",
        "        tf.keras.layers.Embedding(maxwords, embedding_dim, input_length=maxlen),\n",
        "        tf.keras.layers.Bidirectional(tf.keras.layers.LSTM(units=100, activation='tanh', return_sequences=True)),\n",
        "        tf.keras.layers.Bidirectional(tf.keras.layers.LSTM(units=100, activation='tanh', return_sequences=True)),\n",
        "        tf.keras.layers.TimeDistributed(tf.keras.layers.Dense(num_tags, activation='softmax'))\n",
        "    ])\n",
        "\n",
        "    model.compile(loss='sparse_categorical_crossentropy', optimizer='adam', metrics=['accuracy'])\n",
        "\n",
        "    # Train the model\n",
        "    history = model.fit(train_dataset, validation_data=val_dataset, epochs=15)\n",
        "\n",
        "    # Save the training and validation histories\n",
        "    all_train_histories.append(history.history['accuracy'])\n",
        "    all_val_histories.append(history.history['val_accuracy'])\n",
        "\n",
        "# Print average training and validation accuracy across folds\n",
        "\n",
        "for i in range(num_folds):\n",
        "    print(\"For fold:\",i)\n",
        "    print(f\"Average training accuracy is :{np.mean(all_train_histories[i])}\")\n",
        "    print(f\"Average validation accuracy is :{np.mean(all_val_histories[i])}\")\n"
      ],
      "metadata": {
        "colab": {
          "base_uri": "https://localhost:8080/"
        },
        "id": "7nI-3R4bnGNm",
        "outputId": "8b8c23fc-9d2f-4aa6-8899-9768aa7af35a"
      },
      "execution_count": 18,
      "outputs": [
        {
          "output_type": "stream",
          "name": "stdout",
          "text": [
            "\n",
            "Training fold 1/5\n",
            "Epoch 1/15\n",
            "425/425 [==============================] - 72s 128ms/step - loss: 0.0621 - accuracy: 0.9867 - val_loss: 0.0437 - val_accuracy: 0.9889\n",
            "Epoch 2/15\n",
            "425/425 [==============================] - 30s 71ms/step - loss: 0.0347 - accuracy: 0.9893 - val_loss: 0.0379 - val_accuracy: 0.9890\n",
            "Epoch 3/15\n",
            "425/425 [==============================] - 26s 62ms/step - loss: 0.0242 - accuracy: 0.9908 - val_loss: 0.0420 - val_accuracy: 0.9890\n",
            "Epoch 4/15\n",
            "425/425 [==============================] - 23s 53ms/step - loss: 0.0184 - accuracy: 0.9926 - val_loss: 0.0450 - val_accuracy: 0.9884\n",
            "Epoch 5/15\n",
            "425/425 [==============================] - 23s 53ms/step - loss: 0.0153 - accuracy: 0.9937 - val_loss: 0.0472 - val_accuracy: 0.9882\n",
            "Epoch 6/15\n",
            "425/425 [==============================] - 22s 51ms/step - loss: 0.0124 - accuracy: 0.9949 - val_loss: 0.0553 - val_accuracy: 0.9888\n",
            "Epoch 7/15\n",
            "425/425 [==============================] - 21s 50ms/step - loss: 0.0104 - accuracy: 0.9957 - val_loss: 0.0548 - val_accuracy: 0.9881\n",
            "Epoch 8/15\n",
            "425/425 [==============================] - 21s 49ms/step - loss: 0.0088 - accuracy: 0.9964 - val_loss: 0.0596 - val_accuracy: 0.9880\n",
            "Epoch 9/15\n",
            "425/425 [==============================] - 21s 49ms/step - loss: 0.0071 - accuracy: 0.9971 - val_loss: 0.0675 - val_accuracy: 0.9879\n",
            "Epoch 10/15\n",
            "425/425 [==============================] - 22s 52ms/step - loss: 0.0058 - accuracy: 0.9977 - val_loss: 0.0724 - val_accuracy: 0.9869\n",
            "Epoch 11/15\n",
            "425/425 [==============================] - 22s 51ms/step - loss: 0.0048 - accuracy: 0.9981 - val_loss: 0.0757 - val_accuracy: 0.9879\n",
            "Epoch 12/15\n",
            "425/425 [==============================] - 21s 49ms/step - loss: 0.0041 - accuracy: 0.9984 - val_loss: 0.0809 - val_accuracy: 0.9878\n",
            "Epoch 13/15\n",
            "425/425 [==============================] - 21s 49ms/step - loss: 0.0034 - accuracy: 0.9986 - val_loss: 0.0846 - val_accuracy: 0.9866\n",
            "Epoch 14/15\n",
            "425/425 [==============================] - 21s 50ms/step - loss: 0.0028 - accuracy: 0.9989 - val_loss: 0.0899 - val_accuracy: 0.9850\n",
            "Epoch 15/15\n",
            "425/425 [==============================] - 21s 49ms/step - loss: 0.0024 - accuracy: 0.9991 - val_loss: 0.0911 - val_accuracy: 0.9860\n",
            "\n",
            "Training fold 2/5\n",
            "Epoch 1/15\n",
            "425/425 [==============================] - 48s 99ms/step - loss: 0.0621 - accuracy: 0.9868 - val_loss: 0.0452 - val_accuracy: 0.9887\n",
            "Epoch 2/15\n",
            "425/425 [==============================] - 25s 60ms/step - loss: 0.0352 - accuracy: 0.9893 - val_loss: 0.0394 - val_accuracy: 0.9885\n",
            "Epoch 3/15\n",
            "425/425 [==============================] - 23s 54ms/step - loss: 0.0241 - accuracy: 0.9908 - val_loss: 0.0408 - val_accuracy: 0.9878\n",
            "Epoch 4/15\n",
            "425/425 [==============================] - 22s 52ms/step - loss: 0.0180 - accuracy: 0.9927 - val_loss: 0.0487 - val_accuracy: 0.9878\n",
            "Epoch 5/15\n",
            "425/425 [==============================] - 22s 51ms/step - loss: 0.0146 - accuracy: 0.9941 - val_loss: 0.0497 - val_accuracy: 0.9878\n",
            "Epoch 6/15\n",
            "425/425 [==============================] - 22s 51ms/step - loss: 0.0123 - accuracy: 0.9949 - val_loss: 0.0540 - val_accuracy: 0.9870\n",
            "Epoch 7/15\n",
            "425/425 [==============================] - 22s 52ms/step - loss: 0.0098 - accuracy: 0.9960 - val_loss: 0.0601 - val_accuracy: 0.9865\n",
            "Epoch 8/15\n",
            "425/425 [==============================] - 21s 50ms/step - loss: 0.0082 - accuracy: 0.9967 - val_loss: 0.0657 - val_accuracy: 0.9880\n",
            "Epoch 9/15\n",
            "425/425 [==============================] - 22s 51ms/step - loss: 0.0064 - accuracy: 0.9974 - val_loss: 0.0718 - val_accuracy: 0.9879\n",
            "Epoch 10/15\n",
            "425/425 [==============================] - 20s 48ms/step - loss: 0.0052 - accuracy: 0.9979 - val_loss: 0.0733 - val_accuracy: 0.9862\n",
            "Epoch 11/15\n",
            "425/425 [==============================] - 21s 50ms/step - loss: 0.0044 - accuracy: 0.9983 - val_loss: 0.0841 - val_accuracy: 0.9870\n",
            "Epoch 12/15\n",
            "425/425 [==============================] - 21s 50ms/step - loss: 0.0036 - accuracy: 0.9986 - val_loss: 0.0884 - val_accuracy: 0.9877\n",
            "Epoch 13/15\n",
            "425/425 [==============================] - 22s 51ms/step - loss: 0.0030 - accuracy: 0.9988 - val_loss: 0.0923 - val_accuracy: 0.9870\n",
            "Epoch 14/15\n",
            "425/425 [==============================] - 21s 49ms/step - loss: 0.0026 - accuracy: 0.9990 - val_loss: 0.0947 - val_accuracy: 0.9863\n",
            "Epoch 15/15\n",
            "425/425 [==============================] - 21s 48ms/step - loss: 0.0023 - accuracy: 0.9991 - val_loss: 0.0993 - val_accuracy: 0.9869\n",
            "\n",
            "Training fold 3/5\n",
            "Epoch 1/15\n",
            "425/425 [==============================] - 48s 97ms/step - loss: 0.0636 - accuracy: 0.9867 - val_loss: 0.0456 - val_accuracy: 0.9889\n",
            "Epoch 2/15\n",
            "425/425 [==============================] - 26s 60ms/step - loss: 0.0352 - accuracy: 0.9892 - val_loss: 0.0380 - val_accuracy: 0.9890\n",
            "Epoch 3/15\n",
            "425/425 [==============================] - 23s 54ms/step - loss: 0.0243 - accuracy: 0.9907 - val_loss: 0.0413 - val_accuracy: 0.9885\n",
            "Epoch 4/15\n",
            "425/425 [==============================] - 22s 51ms/step - loss: 0.0185 - accuracy: 0.9925 - val_loss: 0.0426 - val_accuracy: 0.9884\n",
            "Epoch 5/15\n",
            "425/425 [==============================] - 22s 51ms/step - loss: 0.0156 - accuracy: 0.9936 - val_loss: 0.0476 - val_accuracy: 0.9882\n",
            "Epoch 6/15\n",
            "425/425 [==============================] - 22s 52ms/step - loss: 0.0125 - accuracy: 0.9949 - val_loss: 0.0539 - val_accuracy: 0.9880\n",
            "Epoch 7/15\n",
            "425/425 [==============================] - 21s 50ms/step - loss: 0.0102 - accuracy: 0.9959 - val_loss: 0.0614 - val_accuracy: 0.9869\n",
            "Epoch 8/15\n",
            "425/425 [==============================] - 21s 49ms/step - loss: 0.0087 - accuracy: 0.9964 - val_loss: 0.0646 - val_accuracy: 0.9867\n",
            "Epoch 9/15\n",
            "425/425 [==============================] - 23s 53ms/step - loss: 0.0070 - accuracy: 0.9972 - val_loss: 0.0672 - val_accuracy: 0.9876\n",
            "Epoch 10/15\n",
            "425/425 [==============================] - 21s 49ms/step - loss: 0.0055 - accuracy: 0.9978 - val_loss: 0.0717 - val_accuracy: 0.9863\n",
            "Epoch 11/15\n",
            "425/425 [==============================] - 21s 48ms/step - loss: 0.0045 - accuracy: 0.9982 - val_loss: 0.0829 - val_accuracy: 0.9854\n",
            "Epoch 12/15\n",
            "425/425 [==============================] - 21s 50ms/step - loss: 0.0037 - accuracy: 0.9986 - val_loss: 0.0880 - val_accuracy: 0.9867\n",
            "Epoch 13/15\n",
            "425/425 [==============================] - 21s 49ms/step - loss: 0.0032 - accuracy: 0.9988 - val_loss: 0.0903 - val_accuracy: 0.9860\n",
            "Epoch 14/15\n",
            "425/425 [==============================] - 21s 50ms/step - loss: 0.0027 - accuracy: 0.9990 - val_loss: 0.0984 - val_accuracy: 0.9866\n",
            "Epoch 15/15\n",
            "425/425 [==============================] - 21s 50ms/step - loss: 0.0022 - accuracy: 0.9991 - val_loss: 0.1017 - val_accuracy: 0.9875\n",
            "\n",
            "Training fold 4/5\n",
            "Epoch 1/15\n",
            "425/425 [==============================] - 49s 101ms/step - loss: 0.0629 - accuracy: 0.9866 - val_loss: 0.0439 - val_accuracy: 0.9893\n",
            "Epoch 2/15\n",
            "425/425 [==============================] - 27s 63ms/step - loss: 0.0359 - accuracy: 0.9891 - val_loss: 0.0372 - val_accuracy: 0.9893\n",
            "Epoch 3/15\n",
            "425/425 [==============================] - 23s 55ms/step - loss: 0.0248 - accuracy: 0.9906 - val_loss: 0.0387 - val_accuracy: 0.9890\n",
            "Epoch 4/15\n",
            "425/425 [==============================] - 22s 52ms/step - loss: 0.0190 - accuracy: 0.9924 - val_loss: 0.0423 - val_accuracy: 0.9878\n",
            "Epoch 5/15\n",
            "425/425 [==============================] - 22s 51ms/step - loss: 0.0158 - accuracy: 0.9936 - val_loss: 0.0430 - val_accuracy: 0.9890\n",
            "Epoch 6/15\n",
            "425/425 [==============================] - 22s 52ms/step - loss: 0.0128 - accuracy: 0.9947 - val_loss: 0.0473 - val_accuracy: 0.9885\n",
            "Epoch 7/15\n",
            "425/425 [==============================] - 22s 51ms/step - loss: 0.0107 - accuracy: 0.9956 - val_loss: 0.0548 - val_accuracy: 0.9880\n",
            "Epoch 8/15\n",
            "425/425 [==============================] - 21s 49ms/step - loss: 0.0090 - accuracy: 0.9963 - val_loss: 0.0634 - val_accuracy: 0.9890\n",
            "Epoch 9/15\n",
            "425/425 [==============================] - 23s 54ms/step - loss: 0.0074 - accuracy: 0.9970 - val_loss: 0.0640 - val_accuracy: 0.9883\n",
            "Epoch 10/15\n",
            "425/425 [==============================] - 21s 50ms/step - loss: 0.0061 - accuracy: 0.9975 - val_loss: 0.0681 - val_accuracy: 0.9875\n",
            "Epoch 11/15\n",
            "425/425 [==============================] - 23s 53ms/step - loss: 0.0054 - accuracy: 0.9978 - val_loss: 0.0710 - val_accuracy: 0.9864\n",
            "Epoch 12/15\n",
            "425/425 [==============================] - 21s 49ms/step - loss: 0.0046 - accuracy: 0.9982 - val_loss: 0.0774 - val_accuracy: 0.9861\n",
            "Epoch 13/15\n",
            "425/425 [==============================] - 21s 49ms/step - loss: 0.0039 - accuracy: 0.9984 - val_loss: 0.0852 - val_accuracy: 0.9884\n",
            "Epoch 14/15\n",
            "425/425 [==============================] - 21s 49ms/step - loss: 0.0032 - accuracy: 0.9988 - val_loss: 0.0853 - val_accuracy: 0.9874\n",
            "Epoch 15/15\n",
            "425/425 [==============================] - 21s 49ms/step - loss: 0.0026 - accuracy: 0.9990 - val_loss: 0.0932 - val_accuracy: 0.9865\n",
            "\n",
            "Training fold 5/5\n",
            "Epoch 1/15\n",
            "425/425 [==============================] - 47s 94ms/step - loss: 0.0618 - accuracy: 0.9866 - val_loss: 0.0434 - val_accuracy: 0.9890\n",
            "Epoch 2/15\n",
            "425/425 [==============================] - 26s 62ms/step - loss: 0.0345 - accuracy: 0.9892 - val_loss: 0.0364 - val_accuracy: 0.9890\n",
            "Epoch 3/15\n",
            "425/425 [==============================] - 24s 56ms/step - loss: 0.0238 - accuracy: 0.9908 - val_loss: 0.0390 - val_accuracy: 0.9876\n",
            "Epoch 4/15\n",
            "425/425 [==============================] - 22s 51ms/step - loss: 0.0183 - accuracy: 0.9926 - val_loss: 0.0448 - val_accuracy: 0.9876\n",
            "Epoch 5/15\n",
            "425/425 [==============================] - 24s 57ms/step - loss: 0.0153 - accuracy: 0.9937 - val_loss: 0.0506 - val_accuracy: 0.9884\n",
            "Epoch 6/15\n",
            "425/425 [==============================] - 21s 50ms/step - loss: 0.0125 - accuracy: 0.9948 - val_loss: 0.0552 - val_accuracy: 0.9884\n",
            "Epoch 7/15\n",
            "425/425 [==============================] - 22s 51ms/step - loss: 0.0105 - accuracy: 0.9958 - val_loss: 0.0585 - val_accuracy: 0.9878\n",
            "Epoch 8/15\n",
            "425/425 [==============================] - 21s 49ms/step - loss: 0.0085 - accuracy: 0.9966 - val_loss: 0.0683 - val_accuracy: 0.9884\n",
            "Epoch 9/15\n",
            "425/425 [==============================] - 21s 50ms/step - loss: 0.0067 - accuracy: 0.9973 - val_loss: 0.0694 - val_accuracy: 0.9874\n",
            "Epoch 10/15\n",
            "425/425 [==============================] - 21s 49ms/step - loss: 0.0054 - accuracy: 0.9978 - val_loss: 0.0761 - val_accuracy: 0.9874\n",
            "Epoch 11/15\n",
            "425/425 [==============================] - 21s 50ms/step - loss: 0.0046 - accuracy: 0.9982 - val_loss: 0.0847 - val_accuracy: 0.9877\n",
            "Epoch 12/15\n",
            "425/425 [==============================] - 21s 50ms/step - loss: 0.0040 - accuracy: 0.9984 - val_loss: 0.0875 - val_accuracy: 0.9867\n",
            "Epoch 13/15\n",
            "425/425 [==============================] - 21s 49ms/step - loss: 0.0035 - accuracy: 0.9986 - val_loss: 0.0925 - val_accuracy: 0.9872\n",
            "Epoch 14/15\n",
            "425/425 [==============================] - 22s 51ms/step - loss: 0.0031 - accuracy: 0.9988 - val_loss: 0.0929 - val_accuracy: 0.9879\n",
            "Epoch 15/15\n",
            "425/425 [==============================] - 21s 50ms/step - loss: 0.0026 - accuracy: 0.9990 - val_loss: 0.0941 - val_accuracy: 0.9873\n",
            "For fold: 0\n",
            "Average training accuracy is :0.995202378431956\n",
            "Average validation accuracy is :0.9877640048662821\n",
            "For fold: 1\n",
            "Average training accuracy is :0.9953618168830871\n",
            "Average validation accuracy is :0.9874053517977397\n",
            "For fold: 2\n",
            "Average training accuracy is :0.9952360073725383\n",
            "Average validation accuracy is :0.9873787959416708\n",
            "For fold: 3\n",
            "Average training accuracy is :0.9950428605079651\n",
            "Average validation accuracy is :0.9880217512448629\n",
            "For fold: 4\n",
            "Average training accuracy is :0.9952165484428406\n",
            "Average validation accuracy is :0.9878412922223408\n"
          ]
        }
      ]
    },
    {
      "cell_type": "markdown",
      "source": [
        "Now we evaluate the performance of the model on the train set, and derive accuracy, F1 score and confusion matrix to see how the model well predicts on new data."
      ],
      "metadata": {
        "id": "jjU5lRkwEc-y"
      }
    },
    {
      "cell_type": "code",
      "source": [
        "def evaluate_model(model, X_test, Y_test, id2word, id2tag, maxlen):\n",
        "    # Initialize lists to store results\n",
        "    all_true_labels = []\n",
        "    all_predicted_labels = []\n",
        "\n",
        "    # Iterate over the test set\n",
        "    for i in range(len(X_test)):\n",
        "        #preprocessed_sentence = tf.keras.preprocessing.sequence.pad_sequences([X_test[i]], maxlen=maxlen)\n",
        "        preprocessed_sentence = X_test[i].reshape((1, maxlen))\n",
        "\n",
        "        # Make prediction on target value\n",
        "        prediction = model.predict(preprocessed_sentence,verbose=None);\n",
        "        prediction = np.argmax(prediction[0], axis=1)\n",
        "\n",
        "        # Get true target value\n",
        "        true_labels = Y_test[i]\n",
        "\n",
        "        # Store true and predicted labels\n",
        "        all_true_labels.extend(true_labels)\n",
        "        all_predicted_labels.extend(prediction)\n",
        "\n",
        "    # Calculate and print accuracy\n",
        "    accuracy = accuracy_score(all_true_labels, all_predicted_labels)\n",
        "    print(f\"Accuracy: {accuracy}\")\n",
        "\n",
        "    # Calculate and print F1 score\n",
        "    f1 = f1_score(all_true_labels, all_predicted_labels, average='weighted')\n",
        "    print(f\"F1 Score: {f1}\")\n",
        "\n",
        "    # Calculate and print confusion matrix\n",
        "    conf_matrix = confusion_matrix(all_true_labels, all_predicted_labels)\n",
        "    print(\"Confusion Matrix:\")\n",
        "    print(conf_matrix)\n",
        "\n",
        "    return conf_matrix\n",
        "\n",
        "# Assuming you have X_test and Y_test defined\n",
        "conf_matrix = evaluate_model(model, X_test, Y_test, id2word, id2tag, maxlen)"
      ],
      "metadata": {
        "colab": {
          "base_uri": "https://localhost:8080/"
        },
        "id": "-OfFzlQw3LcA",
        "outputId": "f5b94023-bc06-48b0-fc8c-5e0702c1c0d4"
      },
      "execution_count": 19,
      "outputs": [
        {
          "output_type": "stream",
          "name": "stdout",
          "text": [
            "Accuracy: 0.9872529613221479\n",
            "F1 Score: 0.9863129581113316\n",
            "Confusion Matrix:\n",
            "[[1252957    2325    1700    2134]\n",
            " [   3696    1572      96      47]\n",
            " [   2608     106    1113      53]\n",
            " [   3403      37      23    1210]]\n"
          ]
        }
      ]
    },
    {
      "cell_type": "code",
      "source": [
        "# Create a function that visualizes confusion matrix\n",
        "def plot_confusion_matrix(cm,\n",
        "                          target_names,\n",
        "                          title='Confusion matrix',\n",
        "                          cmap=None,\n",
        "                          normalize=True):\n",
        "\n",
        "    if cmap is None:\n",
        "        cmap = plt.get_cmap('Blues')\n",
        "\n",
        "    plt.figure(figsize=(8, 6))\n",
        "    plt.imshow(cm, interpolation='nearest', cmap=cmap)\n",
        "    plt.title(title)\n",
        "\n",
        "    if target_names is not None:\n",
        "        tick_marks = np.arange(len(target_names))\n",
        "        plt.xticks(tick_marks, target_names, rotation=45)\n",
        "        plt.yticks(tick_marks, target_names)\n",
        "\n",
        "    if normalize:\n",
        "        cm = cm.astype('float') / cm.sum(axis=1)[:, np.newaxis]\n",
        "\n",
        "    thresh = cm.max() / 1.5 if normalize else cm.max() / 2\n",
        "    for i, j in itertools.product(range(cm.shape[0]), range(cm.shape[1])):\n",
        "        if normalize:\n",
        "            plt.text(j, i, \"{:0.4f}\".format(cm[i, j]),\n",
        "                     horizontalalignment=\"center\",\n",
        "                     color=\"white\" if cm[i, j] > thresh else \"black\")\n",
        "        else:\n",
        "            plt.text(j, i, \"{:,}\".format(cm[i, j]),\n",
        "                     horizontalalignment=\"center\",\n",
        "                     color=\"white\" if cm[i, j] > thresh else \"black\")\n",
        "\n",
        "\n",
        "    plt.tight_layout()\n",
        "    plt.xlabel('Predicted label')\n",
        "    plt.ylabel('True label')\n",
        "    plt.show()"
      ],
      "metadata": {
        "id": "LkRbDa0aEpkZ"
      },
      "execution_count": 20,
      "outputs": []
    },
    {
      "cell_type": "code",
      "source": [
        "plot_confusion_matrix(cm           = conf_matrix,\n",
        "                      normalize    = False,\n",
        "                      target_names = ['O', 'LOC','ORG','PER'],\n",
        "                      title        = \"Test set confusion matrix\")"
      ],
      "metadata": {
        "colab": {
          "base_uri": "https://localhost:8080/",
          "height": 626
        },
        "id": "41_Gv1w_FFjL",
        "outputId": "c692186a-add8-4156-adfc-9c58692e5de0"
      },
      "execution_count": 21,
      "outputs": [
        {
          "output_type": "display_data",
          "data": {
            "text/plain": [
              "<Figure size 800x600 with 1 Axes>"
            ],
            "image/png": "[encoded data removed]"
          },
          "metadata": {}
        }
      ]
    },
    {
      "cell_type": "markdown",
      "source": [
        "# Visalizing results\n",
        "We can also visualize the model's prediction result on the test set using library Spacy."
      ],
      "metadata": {
        "id": "l8AAMx-udaX2"
      }
    },
    {
      "cell_type": "code",
      "source": [
        "# Function that returns original sentence and predicted NER tags\n",
        "def make_prediction(model, preprocessed_sentence, id2word, id2tag,maxlen):\n",
        "\n",
        "    #if preprocessed_sentence.shape() != (1, maxlen):\n",
        "    preprocessed_sentence = preprocessed_sentence.reshape((1, maxlen))\n",
        "\n",
        "    # return preprocessed sentence to its orginal form\n",
        "    sentence = preprocessed_sentence[preprocessed_sentence > 0]\n",
        "    word_list = []\n",
        "    for word in list(sentence):\n",
        "        word_list.append(id2word[word])\n",
        "    orginal_sentence = ' '.join(word_list)\n",
        "    len_orginal_sentence = len(word_list)\n",
        "\n",
        "    # make prediction\n",
        "    prediction = model.predict(preprocessed_sentence,verbose=None);\n",
        "    prediction = np.argmax(prediction[0], axis=1)\n",
        "\n",
        "    # return the prediction to its orginal form\n",
        "    prediction = list(prediction)[ : len_orginal_sentence]\n",
        "\n",
        "    pred_tag_list = []\n",
        "    for tag_id in prediction:\n",
        "        pred_tag_list.append(id2tag[tag_id])\n",
        "    return orginal_sentence,  pred_tag_list\n",
        "\n",
        "# Function that creates dictionary where key is NER tag and value is corresponding word position\n",
        "def calculate_start_end_for_words(sentence, ner_tags):\n",
        "    start_end_list = []  # Initialize an empty list to store start and end positions\n",
        "    start = 0  # Initialize the starting position\n",
        "\n",
        "    for i, (word, ner) in enumerate(zip(sentence.split(), ner_tags)):\n",
        "\n",
        "        if ner != 'O':\n",
        "            start = sentence.find(word) # Record the starting position\n",
        "            end = start + len(word)  # Record the ending position\n",
        "            start_end_list.append({\"start\": start, \"end\": end, \"label\": ner})\n",
        "\n",
        "    return start_end_list\n",
        "\n",
        "\n",
        "# Function that visualizes predicted NER tags for given text\n",
        "def visualization(model, number ,id2word, id2tag,maxlen):\n",
        "  # Retrieve random sentences from test set\n",
        "  random.seed(8) # Fix the result\n",
        "  rnumber = [random.randint(0,X_test.shape[0]) for x in range(number)]\n",
        "\n",
        "  for index in rnumber:\n",
        "    preprocessed_sentence = X_test[index]\n",
        "    # Predict on given sentence\n",
        "    original_sentence,  pred_tag_list = make_prediction(model, preprocessed_sentence, id2word, id2tag,maxlen)\n",
        "    # Create a dictionary that is needed for Spacy visualization\n",
        "    dic_ents = {\n",
        "    \"text\": original_sentence,\n",
        "    \"ents\": calculate_start_end_for_words(original_sentence,  pred_tag_list),\n",
        "    \"title\": None\n",
        "    }\n",
        "    html = displacy.render(dic_ents, manual=True, style=\"ent\")\n",
        "    display(HTML(html))\n",
        "\n",
        "visualization(model,10,id2word, id2tag,maxlen)"
      ],
      "metadata": {
        "id": "3hsBW55WzBK0",
        "colab": {
          "base_uri": "https://localhost:8080/",
          "height": 367
        },
        "outputId": "5f24a156-0d11-4fff-ca45-5cb10b96f759"
      },
      "execution_count": 22,
      "outputs": [
        {
          "output_type": "display_data",
          "data": {
            "text/plain": [
              "<IPython.core.display.HTML object>"
            ],
            "text/html": [
              "<div class=\"entities\" style=\"line-height: 2.5; direction: ltr\">das wohngebäude stammt aus dem ende des 17</div>"
            ]
          },
          "metadata": {}
        },
        {
          "output_type": "display_data",
          "data": {
            "text/plain": [
              "<IPython.core.display.HTML object>"
            ],
            "text/html": [
              "<div class=\"entities\" style=\"line-height: 2.5; direction: ltr\">it lies approximately south of \n",
              "<mark class=\"entity\" style=\"background: #ff9561; padding: 0.45em 0.6em; margin: 0 0.25em; line-height: 1; border-radius: 0.35em;\">\n",
              "    trąbki\n",
              "    <span style=\"font-size: 0.8em; font-weight: bold; line-height: 1; border-radius: 0.35em; vertical-align: middle; margin-left: 0.5rem\">LOC</span>\n",
              "</mark>\n",
              " \n",
              "<mark class=\"entity\" style=\"background: #ff9561; padding: 0.45em 0.6em; margin: 0 0.25em; line-height: 1; border-radius: 0.35em;\">\n",
              "    wielkie\n",
              "    <span style=\"font-size: 0.8em; font-weight: bold; line-height: 1; border-radius: 0.35em; vertical-align: middle; margin-left: 0.5rem\">LOC</span>\n",
              "</mark>\n",
              " south west of \n",
              "<mark class=\"entity\" style=\"background: #ff9561; padding: 0.45em 0.6em; margin: 0 0.25em; line-height: 1; border-radius: 0.35em;\">\n",
              "    pruszcz\n",
              "    <span style=\"font-size: 0.8em; font-weight: bold; line-height: 1; border-radius: 0.35em; vertical-align: middle; margin-left: 0.5rem\">LOC</span>\n",
              "</mark>\n",
              " \n",
              "<mark class=\"entity\" style=\"background: #ff9561; padding: 0.45em 0.6em; margin: 0 0.25em; line-height: 1; border-radius: 0.35em;\">\n",
              "    gdański\n",
              "    <span style=\"font-size: 0.8em; font-weight: bold; line-height: 1; border-radius: 0.35em; vertical-align: middle; margin-left: 0.5rem\">LOC</span>\n",
              "</mark>\n",
              " and south of the regional capital gdańsk</div>"
            ]
          },
          "metadata": {}
        },
        {
          "output_type": "display_data",
          "data": {
            "text/plain": [
              "<IPython.core.display.HTML object>"
            ],
            "text/html": [
              "<div class=\"entities\" style=\"line-height: 2.5; direction: ltr\">moodring is the third studio album by american recording artist m \n",
              "<mark class=\"entity\" style=\"background: #ddd; padding: 0.45em 0.6em; margin: 0 0.25em; line-height: 1; border-radius: 0.35em;\">\n",
              "    c3\n",
              "    <span style=\"font-size: 0.8em; font-weight: bold; line-height: 1; border-radius: 0.35em; vertical-align: middle; margin-left: 0.5rem\">PER</span>\n",
              "</mark>\n",
              " \n",
              "<mark class=\"entity\" style=\"background: #ddd; padding: 0.45em 0.6em; margin: 0 0.25em; line-height: 1; border-radius: 0.35em;\">\n",
              "    bda\n",
              "    <span style=\"font-size: 0.8em; font-weight: bold; line-height: 1; border-radius: 0.35em; vertical-align: middle; margin-left: 0.5rem\">PER</span>\n",
              "</mark>\n",
              "</div>"
            ]
          },
          "metadata": {}
        },
        {
          "output_type": "display_data",
          "data": {
            "text/plain": [
              "<IPython.core.display.HTML object>"
            ],
            "text/html": [
              "<div class=\"entities\" style=\"line-height: 2.5; direction: ltr\">the family includes many islamic scientists shaikh physicians and teachers</div>"
            ]
          },
          "metadata": {}
        },
        {
          "output_type": "display_data",
          "data": {
            "text/plain": [
              "<IPython.core.display.HTML object>"
            ],
            "text/html": [
              "<div class=\"entities\" style=\"line-height: 2.5; direction: ltr\">inoltre ha prestato la voce a \n",
              "<mark class=\"entity\" style=\"background: #ddd; padding: 0.45em 0.6em; margin: 0 0.25em; line-height: 1; border-radius: 0.35em;\">\n",
              "    brigitte\n",
              "    <span style=\"font-size: 0.8em; font-weight: bold; line-height: 1; border-radius: 0.35em; vertical-align: middle; margin-left: 0.5rem\">PER</span>\n",
              "</mark>\n",
              " \n",
              "<mark class=\"entity\" style=\"background: #ddd; padding: 0.45em 0.6em; margin: 0 0.25em; line-height: 1; border-radius: 0.35em;\">\n",
              "    nielsen\n",
              "    <span style=\"font-size: 0.8em; font-weight: bold; line-height: 1; border-radius: 0.35em; vertical-align: middle; margin-left: 0.5rem\">PER</span>\n",
              "</mark>\n",
              " nello sceneggiato fantaghirò</div>"
            ]
          },
          "metadata": {}
        },
        {
          "output_type": "display_data",
          "data": {
            "text/plain": [
              "<IPython.core.display.HTML object>"
            ],
            "text/html": [
              "<div class=\"entities\" style=\"line-height: 2.5; direction: ltr\">the station located wuxi \n",
              "<mark class=\"entity\" style=\"background: #ff9561; padding: 0.45em 0.6em; margin: 0 0.25em; line-height: 1; border-radius: 0.35em;\">\n",
              "    jiangsu\n",
              "    <span style=\"font-size: 0.8em; font-weight: bold; line-height: 1; border-radius: 0.35em; vertical-align: middle; margin-left: 0.5rem\">LOC</span>\n",
              "</mark>\n",
              " china</div>"
            ]
          },
          "metadata": {}
        },
        {
          "output_type": "display_data",
          "data": {
            "text/plain": [
              "<IPython.core.display.HTML object>"
            ],
            "text/html": [
              "<div class=\"entities\" style=\"line-height: 2.5; direction: ltr\">geographie der see befand sich im talkessel der trkmanka zwischen kobylí brumovice terezín und krumvíř</div>"
            ]
          },
          "metadata": {}
        },
        {
          "output_type": "display_data",
          "data": {
            "text/plain": [
              "<IPython.core.display.HTML object>"
            ],
            "text/html": [
              "<div class=\"entities\" style=\"line-height: 2.5; direction: ltr\">vor den aufnahmen zum vierten studioalbum statues das 2003 erschien beendeten \n",
              "<mark class=\"entity\" style=\"background: #ddd; padding: 0.45em 0.6em; margin: 0 0.25em; line-height: 1; border-radius: 0.35em;\">\n",
              "    murphy\n",
              "    <span style=\"font-size: 0.8em; font-weight: bold; line-height: 1; border-radius: 0.35em; vertical-align: middle; margin-left: 0.5rem\">PER</span>\n",
              "</mark>\n",
              " \n",
              "<mark class=\"entity\" style=\"background: #ddd; padding: 0.45em 0.6em; margin: 0 0.25em; line-height: 1; border-radius: 0.35em;\">\n",
              "    und\n",
              "    <span style=\"font-size: 0.8em; font-weight: bold; line-height: 1; border-radius: 0.35em; vertical-align: middle; margin-left: 0.5rem\">PER</span>\n",
              "</mark>\n",
              " brydon ihre liebesbeziehung und gingen privat fortan getrennte wege</div>"
            ]
          },
          "metadata": {}
        },
        {
          "output_type": "display_data",
          "data": {
            "text/plain": [
              "<IPython.core.display.HTML object>"
            ],
            "text/html": [
              "<div class=\"entities\" style=\"line-height: 2.5; direction: ltr\">design and development the xkd4r was an \n",
              "<mark class=\"entity\" style=\"background: #7aecec; padding: 0.45em 0.6em; margin: 0 0.25em; line-height: 1; border-radius: 0.35em;\">\n",
              "    air\n",
              "    <span style=\"font-size: 0.8em; font-weight: bold; line-height: 1; border-radius: 0.35em; vertical-align: middle; margin-left: 0.5rem\">ORG</span>\n",
              "</mark>\n",
              " \n",
              "<mark class=\"entity\" style=\"background: #7aecec; padding: 0.45em 0.6em; margin: 0 0.25em; line-height: 1; border-radius: 0.35em;\">\n",
              "    launched\n",
              "    <span style=\"font-size: 0.8em; font-weight: bold; line-height: 1; border-radius: 0.35em; vertical-align: middle; margin-left: 0.5rem\">ORG</span>\n",
              "</mark>\n",
              " target drone powered by a single aerojet solid fuel rocket engine which exhausted through nozzles located at the trailing edges of the wing</div>"
            ]
          },
          "metadata": {}
        },
        {
          "output_type": "display_data",
          "data": {
            "text/plain": [
              "<IPython.core.display.HTML object>"
            ],
            "text/html": [
              "<div class=\"entities\" style=\"line-height: 2.5; direction: ltr\">inoltre nei pazienti con nota iperuricemia i livelli di acido urico devono essere controllati</div>"
            ]
          },
          "metadata": {}
        }
      ]
    }
  ],
  "metadata": {
    "accelerator": "GPU",
    "colab": {
      "provenance": []
    },
    "kernelspec": {
      "display_name": "Python 3",
      "name": "python3"
    },
    "language_info": {
      "name": "python"
    },
    "widgets": {
      "application/vnd.jupyter.widget-state+json": {
        "08ba45dd05e849ee8051aa4dcf64069d": {
          "model_module": "@jupyter-widgets/controls",
          "model_name": "HBoxModel",
          "model_module_version": "1.5.0",
          "state": {
            "_dom_classes": [],
            "_model_module": "@jupyter-widgets/controls",
            "_model_module_version": "1.5.0",
            "_model_name": "HBoxModel",
            "_view_count": null,
            "_view_module": "@jupyter-widgets/controls",
            "_view_module_version": "1.5.0",
            "_view_name": "HBoxView",
            "box_style": "",
            "children": [
              "IPY_MODEL_0c38dfd9030143ca8a9fc53c853996f2",
              "IPY_MODEL_4517806d49bc46ceaf17ab6687746d5e",
              "IPY_MODEL_0117bfc45ba6419f80fd8edde8092e1d"
            ],
            "layout": "IPY_MODEL_7e073e9d0b604dc8b887d79faae225b7"
          }
        },
        "0c38dfd9030143ca8a9fc53c853996f2": {
          "model_module": "@jupyter-widgets/controls",
          "model_name": "HTMLModel",
          "model_module_version": "1.5.0",
          "state": {
            "_dom_classes": [],
            "_model_module": "@jupyter-widgets/controls",
            "_model_module_version": "1.5.0",
            "_model_name": "HTMLModel",
            "_view_count": null,
            "_view_module": "@jupyter-widgets/controls",
            "_view_module_version": "1.5.0",
            "_view_name": "HTMLView",
            "description": "",
            "description_tooltip": null,
            "layout": "IPY_MODEL_d2f8f4d045df4498a86d2ce919726763",
            "placeholder": "​",
            "style": "IPY_MODEL_c978b11ffdab43b0b2f4bc739830753a",
            "value": "Generating train split: 100%"
          }
        },
        "4517806d49bc46ceaf17ab6687746d5e": {
          "model_module": "@jupyter-widgets/controls",
          "model_name": "FloatProgressModel",
          "model_module_version": "1.5.0",
          "state": {
            "_dom_classes": [],
            "_model_module": "@jupyter-widgets/controls",
            "_model_module_version": "1.5.0",
            "_model_name": "FloatProgressModel",
            "_view_count": null,
            "_view_module": "@jupyter-widgets/controls",
            "_view_module_version": "1.5.0",
            "_view_name": "ProgressView",
            "bar_style": "success",
            "description": "",
            "description_tooltip": null,
            "layout": "IPY_MODEL_696a54d5227848e1ba1a10b9cbca0095",
            "max": 418411,
            "min": 0,
            "orientation": "horizontal",
            "style": "IPY_MODEL_a3fa16f426c94faea8cbc3807adb10fc",
            "value": 418411
          }
        },
        "0117bfc45ba6419f80fd8edde8092e1d": {
          "model_module": "@jupyter-widgets/controls",
          "model_name": "HTMLModel",
          "model_module_version": "1.5.0",
          "state": {
            "_dom_classes": [],
            "_model_module": "@jupyter-widgets/controls",
            "_model_module_version": "1.5.0",
            "_model_name": "HTMLModel",
            "_view_count": null,
            "_view_module": "@jupyter-widgets/controls",
            "_view_module_version": "1.5.0",
            "_view_name": "HTMLView",
            "description": "",
            "description_tooltip": null,
            "layout": "IPY_MODEL_c19127a620954e3e99b215d5b4f408f8",
            "placeholder": "​",
            "style": "IPY_MODEL_6cc09a1b90c847429410fab50918b790",
            "value": " 418411/418411 [01:58&lt;00:00, 4030.74 examples/s]"
          }
        },
        "7e073e9d0b604dc8b887d79faae225b7": {
          "model_module": "@jupyter-widgets/base",
          "model_name": "LayoutModel",
          "model_module_version": "1.2.0",
          "state": {
            "_model_module": "@jupyter-widgets/base",
            "_model_module_version": "1.2.0",
            "_model_name": "LayoutModel",
            "_view_count": null,
            "_view_module": "@jupyter-widgets/base",
            "_view_module_version": "1.2.0",
            "_view_name": "LayoutView",
            "align_content": null,
            "align_items": null,
            "align_self": null,
            "border": null,
            "bottom": null,
            "display": null,
            "flex": null,
            "flex_flow": null,
            "grid_area": null,
            "grid_auto_columns": null,
            "grid_auto_flow": null,
            "grid_auto_rows": null,
            "grid_column": null,
            "grid_gap": null,
            "grid_row": null,
            "grid_template_areas": null,
            "grid_template_columns": null,
            "grid_template_rows": null,
            "height": null,
            "justify_content": null,
            "justify_items": null,
            "left": null,
            "margin": null,
            "max_height": null,
            "max_width": null,
            "min_height": null,
            "min_width": null,
            "object_fit": null,
            "object_position": null,
            "order": null,
            "overflow": null,
            "overflow_x": null,
            "overflow_y": null,
            "padding": null,
            "right": null,
            "top": null,
            "visibility": null,
            "width": null
          }
        },
        "d2f8f4d045df4498a86d2ce919726763": {
          "model_module": "@jupyter-widgets/base",
          "model_name": "LayoutModel",
          "model_module_version": "1.2.0",
          "state": {
            "_model_module": "@jupyter-widgets/base",
            "_model_module_version": "1.2.0",
            "_model_name": "LayoutModel",
            "_view_count": null,
            "_view_module": "@jupyter-widgets/base",
            "_view_module_version": "1.2.0",
            "_view_name": "LayoutView",
            "align_content": null,
            "align_items": null,
            "align_self": null,
            "border": null,
            "bottom": null,
            "display": null,
            "flex": null,
            "flex_flow": null,
            "grid_area": null,
            "grid_auto_columns": null,
            "grid_auto_flow": null,
            "grid_auto_rows": null,
            "grid_column": null,
            "grid_gap": null,
            "grid_row": null,
            "grid_template_areas": null,
            "grid_template_columns": null,
            "grid_template_rows": null,
            "height": null,
            "justify_content": null,
            "justify_items": null,
            "left": null,
            "margin": null,
            "max_height": null,
            "max_width": null,
            "min_height": null,
            "min_width": null,
            "object_fit": null,
            "object_position": null,
            "order": null,
            "overflow": null,
            "overflow_x": null,
            "overflow_y": null,
            "padding": null,
            "right": null,
            "top": null,
            "visibility": null,
            "width": null
          }
        },
        "c978b11ffdab43b0b2f4bc739830753a": {
          "model_module": "@jupyter-widgets/controls",
          "model_name": "DescriptionStyleModel",
          "model_module_version": "1.5.0",
          "state": {
            "_model_module": "@jupyter-widgets/controls",
            "_model_module_version": "1.5.0",
            "_model_name": "DescriptionStyleModel",
            "_view_count": null,
            "_view_module": "@jupyter-widgets/base",
            "_view_module_version": "1.2.0",
            "_view_name": "StyleView",
            "description_width": ""
          }
        },
        "696a54d5227848e1ba1a10b9cbca0095": {
          "model_module": "@jupyter-widgets/base",
          "model_name": "LayoutModel",
          "model_module_version": "1.2.0",
          "state": {
            "_model_module": "@jupyter-widgets/base",
            "_model_module_version": "1.2.0",
            "_model_name": "LayoutModel",
            "_view_count": null,
            "_view_module": "@jupyter-widgets/base",
            "_view_module_version": "1.2.0",
            "_view_name": "LayoutView",
            "align_content": null,
            "align_items": null,
            "align_self": null,
            "border": null,
            "bottom": null,
            "display": null,
            "flex": null,
            "flex_flow": null,
            "grid_area": null,
            "grid_auto_columns": null,
            "grid_auto_flow": null,
            "grid_auto_rows": null,
            "grid_column": null,
            "grid_gap": null,
            "grid_row": null,
            "grid_template_areas": null,
            "grid_template_columns": null,
            "grid_template_rows": null,
            "height": null,
            "justify_content": null,
            "justify_items": null,
            "left": null,
            "margin": null,
            "max_height": null,
            "max_width": null,
            "min_height": null,
            "min_width": null,
            "object_fit": null,
            "object_position": null,
            "order": null,
            "overflow": null,
            "overflow_x": null,
            "overflow_y": null,
            "padding": null,
            "right": null,
            "top": null,
            "visibility": null,
            "width": null
          }
        },
        "a3fa16f426c94faea8cbc3807adb10fc": {
          "model_module": "@jupyter-widgets/controls",
          "model_name": "ProgressStyleModel",
          "model_module_version": "1.5.0",
          "state": {
            "_model_module": "@jupyter-widgets/controls",
            "_model_module_version": "1.5.0",
            "_model_name": "ProgressStyleModel",
            "_view_count": null,
            "_view_module": "@jupyter-widgets/base",
            "_view_module_version": "1.2.0",
            "_view_name": "StyleView",
            "bar_color": null,
            "description_width": ""
          }
        },
        "c19127a620954e3e99b215d5b4f408f8": {
          "model_module": "@jupyter-widgets/base",
          "model_name": "LayoutModel",
          "model_module_version": "1.2.0",
          "state": {
            "_model_module": "@jupyter-widgets/base",
            "_model_module_version": "1.2.0",
            "_model_name": "LayoutModel",
            "_view_count": null,
            "_view_module": "@jupyter-widgets/base",
            "_view_module_version": "1.2.0",
            "_view_name": "LayoutView",
            "align_content": null,
            "align_items": null,
            "align_self": null,
            "border": null,
            "bottom": null,
            "display": null,
            "flex": null,
            "flex_flow": null,
            "grid_area": null,
            "grid_auto_columns": null,
            "grid_auto_flow": null,
            "grid_auto_rows": null,
            "grid_column": null,
            "grid_gap": null,
            "grid_row": null,
            "grid_template_areas": null,
            "grid_template_columns": null,
            "grid_template_rows": null,
            "height": null,
            "justify_content": null,
            "justify_items": null,
            "left": null,
            "margin": null,
            "max_height": null,
            "max_width": null,
            "min_height": null,
            "min_width": null,
            "object_fit": null,
            "object_position": null,
            "order": null,
            "overflow": null,
            "overflow_x": null,
            "overflow_y": null,
            "padding": null,
            "right": null,
            "top": null,
            "visibility": null,
            "width": null
          }
        },
        "6cc09a1b90c847429410fab50918b790": {
          "model_module": "@jupyter-widgets/controls",
          "model_name": "DescriptionStyleModel",
          "model_module_version": "1.5.0",
          "state": {
            "_model_module": "@jupyter-widgets/controls",
            "_model_module_version": "1.5.0",
            "_model_name": "DescriptionStyleModel",
            "_view_count": null,
            "_view_module": "@jupyter-widgets/base",
            "_view_module_version": "1.2.0",
            "_view_name": "StyleView",
            "description_width": ""
          }
        },
        "e8633cbe6e154c74a35cbe42e9e8e49d": {
          "model_module": "@jupyter-widgets/controls",
          "model_name": "HBoxModel",
          "model_module_version": "1.5.0",
          "state": {
            "_dom_classes": [],
            "_model_module": "@jupyter-widgets/controls",
            "_model_module_version": "1.5.0",
            "_model_name": "HBoxModel",
            "_view_count": null,
            "_view_module": "@jupyter-widgets/controls",
            "_view_module_version": "1.5.0",
            "_view_name": "HBoxView",
            "box_style": "",
            "children": [
              "IPY_MODEL_ef66be9a67194e12825e96c37a89f9ba",
              "IPY_MODEL_8309ae781d44465286a27b69a8b36d0b",
              "IPY_MODEL_ed33dc1f3c21419098b2791295974f9e"
            ],
            "layout": "IPY_MODEL_bdc5cece37534a4e8f39e993aa42e7c3"
          }
        },
        "ef66be9a67194e12825e96c37a89f9ba": {
          "model_module": "@jupyter-widgets/controls",
          "model_name": "HTMLModel",
          "model_module_version": "1.5.0",
          "state": {
            "_dom_classes": [],
            "_model_module": "@jupyter-widgets/controls",
            "_model_module_version": "1.5.0",
            "_model_name": "HTMLModel",
            "_view_count": null,
            "_view_module": "@jupyter-widgets/controls",
            "_view_module_version": "1.5.0",
            "_view_name": "HTMLView",
            "description": "",
            "description_tooltip": null,
            "layout": "IPY_MODEL_ec0e250f6f824703b36a7b92d2ca991d",
            "placeholder": "​",
            "style": "IPY_MODEL_3c510b6ec7224dcf85d8370e8eaddba5",
            "value": "Generating train split: 100%"
          }
        },
        "8309ae781d44465286a27b69a8b36d0b": {
          "model_module": "@jupyter-widgets/controls",
          "model_name": "FloatProgressModel",
          "model_module_version": "1.5.0",
          "state": {
            "_dom_classes": [],
            "_model_module": "@jupyter-widgets/controls",
            "_model_module_version": "1.5.0",
            "_model_name": "FloatProgressModel",
            "_view_count": null,
            "_view_module": "@jupyter-widgets/controls",
            "_view_module_version": "1.5.0",
            "_view_name": "ProgressView",
            "bar_style": "success",
            "description": "",
            "description_tooltip": null,
            "layout": "IPY_MODEL_b6e93f1b9c754ac08fda836f08fb2e30",
            "max": 547578,
            "min": 0,
            "orientation": "horizontal",
            "style": "IPY_MODEL_06ffb482fea340029de2a9afce73a216",
            "value": 547578
          }
        },
        "ed33dc1f3c21419098b2791295974f9e": {
          "model_module": "@jupyter-widgets/controls",
          "model_name": "HTMLModel",
          "model_module_version": "1.5.0",
          "state": {
            "_dom_classes": [],
            "_model_module": "@jupyter-widgets/controls",
            "_model_module_version": "1.5.0",
            "_model_name": "HTMLModel",
            "_view_count": null,
            "_view_module": "@jupyter-widgets/controls",
            "_view_module_version": "1.5.0",
            "_view_name": "HTMLView",
            "description": "",
            "description_tooltip": null,
            "layout": "IPY_MODEL_db836425c71945c09056610df5d89bf5",
            "placeholder": "​",
            "style": "IPY_MODEL_621d2c6e5022419ca212904b127cbfb7",
            "value": " 547578/547578 [01:32&lt;00:00, 6270.18 examples/s]"
          }
        },
        "bdc5cece37534a4e8f39e993aa42e7c3": {
          "model_module": "@jupyter-widgets/base",
          "model_name": "LayoutModel",
          "model_module_version": "1.2.0",
          "state": {
            "_model_module": "@jupyter-widgets/base",
            "_model_module_version": "1.2.0",
            "_model_name": "LayoutModel",
            "_view_count": null,
            "_view_module": "@jupyter-widgets/base",
            "_view_module_version": "1.2.0",
            "_view_name": "LayoutView",
            "align_content": null,
            "align_items": null,
            "align_self": null,
            "border": null,
            "bottom": null,
            "display": null,
            "flex": null,
            "flex_flow": null,
            "grid_area": null,
            "grid_auto_columns": null,
            "grid_auto_flow": null,
            "grid_auto_rows": null,
            "grid_column": null,
            "grid_gap": null,
            "grid_row": null,
            "grid_template_areas": null,
            "grid_template_columns": null,
            "grid_template_rows": null,
            "height": null,
            "justify_content": null,
            "justify_items": null,
            "left": null,
            "margin": null,
            "max_height": null,
            "max_width": null,
            "min_height": null,
            "min_width": null,
            "object_fit": null,
            "object_position": null,
            "order": null,
            "overflow": null,
            "overflow_x": null,
            "overflow_y": null,
            "padding": null,
            "right": null,
            "top": null,
            "visibility": null,
            "width": null
          }
        },
        "ec0e250f6f824703b36a7b92d2ca991d": {
          "model_module": "@jupyter-widgets/base",
          "model_name": "LayoutModel",
          "model_module_version": "1.2.0",
          "state": {
            "_model_module": "@jupyter-widgets/base",
            "_model_module_version": "1.2.0",
            "_model_name": "LayoutModel",
            "_view_count": null,
            "_view_module": "@jupyter-widgets/base",
            "_view_module_version": "1.2.0",
            "_view_name": "LayoutView",
            "align_content": null,
            "align_items": null,
            "align_self": null,
            "border": null,
            "bottom": null,
            "display": null,
            "flex": null,
            "flex_flow": null,
            "grid_area": null,
            "grid_auto_columns": null,
            "grid_auto_flow": null,
            "grid_auto_rows": null,
            "grid_column": null,
            "grid_gap": null,
            "grid_row": null,
            "grid_template_areas": null,
            "grid_template_columns": null,
            "grid_template_rows": null,
            "height": null,
            "justify_content": null,
            "justify_items": null,
            "left": null,
            "margin": null,
            "max_height": null,
            "max_width": null,
            "min_height": null,
            "min_width": null,
            "object_fit": null,
            "object_position": null,
            "order": null,
            "overflow": null,
            "overflow_x": null,
            "overflow_y": null,
            "padding": null,
            "right": null,
            "top": null,
            "visibility": null,
            "width": null
          }
        },
        "3c510b6ec7224dcf85d8370e8eaddba5": {
          "model_module": "@jupyter-widgets/controls",
          "model_name": "DescriptionStyleModel",
          "model_module_version": "1.5.0",
          "state": {
            "_model_module": "@jupyter-widgets/controls",
            "_model_module_version": "1.5.0",
            "_model_name": "DescriptionStyleModel",
            "_view_count": null,
            "_view_module": "@jupyter-widgets/base",
            "_view_module_version": "1.2.0",
            "_view_name": "StyleView",
            "description_width": ""
          }
        },
        "b6e93f1b9c754ac08fda836f08fb2e30": {
          "model_module": "@jupyter-widgets/base",
          "model_name": "LayoutModel",
          "model_module_version": "1.2.0",
          "state": {
            "_model_module": "@jupyter-widgets/base",
            "_model_module_version": "1.2.0",
            "_model_name": "LayoutModel",
            "_view_count": null,
            "_view_module": "@jupyter-widgets/base",
            "_view_module_version": "1.2.0",
            "_view_name": "LayoutView",
            "align_content": null,
            "align_items": null,
            "align_self": null,
            "border": null,
            "bottom": null,
            "display": null,
            "flex": null,
            "flex_flow": null,
            "grid_area": null,
            "grid_auto_columns": null,
            "grid_auto_flow": null,
            "grid_auto_rows": null,
            "grid_column": null,
            "grid_gap": null,
            "grid_row": null,
            "grid_template_areas": null,
            "grid_template_columns": null,
            "grid_template_rows": null,
            "height": null,
            "justify_content": null,
            "justify_items": null,
            "left": null,
            "margin": null,
            "max_height": null,
            "max_width": null,
            "min_height": null,
            "min_width": null,
            "object_fit": null,
            "object_position": null,
            "order": null,
            "overflow": null,
            "overflow_x": null,
            "overflow_y": null,
            "padding": null,
            "right": null,
            "top": null,
            "visibility": null,
            "width": null
          }
        },
        "06ffb482fea340029de2a9afce73a216": {
          "model_module": "@jupyter-widgets/controls",
          "model_name": "ProgressStyleModel",
          "model_module_version": "1.5.0",
          "state": {
            "_model_module": "@jupyter-widgets/controls",
            "_model_module_version": "1.5.0",
            "_model_name": "ProgressStyleModel",
            "_view_count": null,
            "_view_module": "@jupyter-widgets/base",
            "_view_module_version": "1.2.0",
            "_view_name": "StyleView",
            "bar_color": null,
            "description_width": ""
          }
        },
        "db836425c71945c09056610df5d89bf5": {
          "model_module": "@jupyter-widgets/base",
          "model_name": "LayoutModel",
          "model_module_version": "1.2.0",
          "state": {
            "_model_module": "@jupyter-widgets/base",
            "_model_module_version": "1.2.0",
            "_model_name": "LayoutModel",
            "_view_count": null,
            "_view_module": "@jupyter-widgets/base",
            "_view_module_version": "1.2.0",
            "_view_name": "LayoutView",
            "align_content": null,
            "align_items": null,
            "align_self": null,
            "border": null,
            "bottom": null,
            "display": null,
            "flex": null,
            "flex_flow": null,
            "grid_area": null,
            "grid_auto_columns": null,
            "grid_auto_flow": null,
            "grid_auto_rows": null,
            "grid_column": null,
            "grid_gap": null,
            "grid_row": null,
            "grid_template_areas": null,
            "grid_template_columns": null,
            "grid_template_rows": null,
            "height": null,
            "justify_content": null,
            "justify_items": null,
            "left": null,
            "margin": null,
            "max_height": null,
            "max_width": null,
            "min_height": null,
            "min_width": null,
            "object_fit": null,
            "object_position": null,
            "order": null,
            "overflow": null,
            "overflow_x": null,
            "overflow_y": null,
            "padding": null,
            "right": null,
            "top": null,
            "visibility": null,
            "width": null
          }
        },
        "621d2c6e5022419ca212904b127cbfb7": {
          "model_module": "@jupyter-widgets/controls",
          "model_name": "DescriptionStyleModel",
          "model_module_version": "1.5.0",
          "state": {
            "_model_module": "@jupyter-widgets/controls",
            "_model_module_version": "1.5.0",
            "_model_name": "DescriptionStyleModel",
            "_view_count": null,
            "_view_module": "@jupyter-widgets/base",
            "_view_module_version": "1.2.0",
            "_view_name": "StyleView",
            "description_width": ""
          }
        }
      }
    }
  },
  "nbformat": 4,
  "nbformat_minor": 0
}